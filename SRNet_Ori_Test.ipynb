{
  "nbformat": 4,
  "nbformat_minor": 0,
  "metadata": {
    "colab": {
      "name": "SRNet_Ori_Test.ipynb",
      "private_outputs": true,
      "provenance": []
    },
    "kernelspec": {
      "name": "python3",
      "display_name": "Python 3"
    },
    "accelerator": "GPU"
  },
  "cells": [
    {
      "cell_type": "code",
      "metadata": {
        "id": "GooVX8hE0YFa"
      },
      "source": [
        "!apt-get install -y -qq software-properties-common python-software-properties module-init-tools\n",
        "!add-apt-repository -y ppa:alessandro-strada/ppa 2>&1 > /dev/null\n",
        "!apt-get update -qq 2>&1 > /dev/null\n",
        "!apt-get -y install -qq google-drive-ocamlfuse fuse\n",
        " \n",
        "from google.colab import auth\n",
        "auth.authenticate_user()\n",
        "from oauth2client.client import GoogleCredentials\n",
        "creds = GoogleCredentials.get_application_default()\n",
        "import getpass\n",
        "!google-drive-ocamlfuse -headless -id={creds.client_id} -secret={creds.client_secret} < /dev/null 2>&1 | grep URL\n",
        "vcode = getpass.getpass()\n",
        "!echo {vcode} | google-drive-ocamlfuse -headless -id={creds.client_id} -secret={creds.client_secret}\n",
        " \n",
        " \n",
        "import datetime\n",
        "import json\n",
        "import os\n",
        "import pprint\n",
        "import random\n",
        "import string\n",
        "import sys\n",
        "import tensorflow as tf"
      ],
      "execution_count": null,
      "outputs": []
    },
    {
      "cell_type": "code",
      "metadata": {
        "id": "liNW0HJw1XNB"
      },
      "source": [
        "# Load the Drive helper and mount\n",
        "from google.colab import drive\n",
        "# This will prompt for authorization.\n",
        "drive.mount('/content/drive')"
      ],
      "execution_count": null,
      "outputs": []
    },
    {
      "cell_type": "code",
      "metadata": {
        "id": "UBA7Vvzt1fS3"
      },
      "source": [
        "import sys\n",
        "\n",
        "!test -d SRGAN_ORI_Test || git clone https://github.com/goldenbili/SRGAN_ORI_Test\n",
        "if not 'SRGAN_ORI_Test' in sys.path:\n",
        "  sys.path += ['SRGAN_ORI_Test']\n",
        "%cd SRGAN_ORI_Test/\n",
        "!pwd  "
      ],
      "execution_count": null,
      "outputs": []
    },
    {
      "cell_type": "code",
      "metadata": {
        "id": "POtCR5p8HNv4"
      },
      "source": [
        "Path_drive_Base = \"/content/drive/MyDrive/SRGAN/\"\n",
        "Path_data_Base = Path_drive_Base + \"data/\"\n",
        "Path_dataInput_Base = \"/content/SRGAN_ORI_Test/data/\""
      ],
      "execution_count": null,
      "outputs": []
    },
    {
      "cell_type": "code",
      "metadata": {
        "id": "RHd2E4FBGoBR"
      },
      "source": [
        "Sub_Train = \"01**\" #@param {type:\"string\"}\n",
        "Sub_Valid = \"080*\" #@param {type:\"string\"}\n",
        "Source_Train = Path_data_Base + \"DIV2K_train_HR/\" + Sub_Train + \".png\"\n",
        "Source_Valid = Path_data_Base + \"DIV2K_valid_HR/\" + Sub_Valid + \".png\"\n",
        "\n",
        "!mkdir data\n",
        "Path_train = Path_dataInput_Base + \"DIV2K_train_HR\"\n",
        "Path_valid = Path_dataInput_Base + \"DIV2K_valid_HR\"\n",
        "!mkdir $Path_train\n",
        "!mkdir $Path_valid\n",
        "\n",
        "Path_train = Path_train + \"/\"\n",
        "Path_valid = Path_valid + \"/\""
      ],
      "execution_count": null,
      "outputs": []
    },
    {
      "cell_type": "code",
      "metadata": {
        "id": "JR9izJaLG97V"
      },
      "source": [
        "!cp $Source_Train $Path_train\n",
        "!cp $Source_Valid $Path_valid"
      ],
      "execution_count": null,
      "outputs": []
    },
    {
      "cell_type": "code",
      "metadata": {
        "id": "tVXa71tH1p-b"
      },
      "source": [
        "!wget http://data.vision.ee.ethz.ch/cvl/DIV2K/DIV2K_train_HR.zip\n",
        "!wget http://data.vision.ee.ethz.ch/cvl/DIV2K/DIV2K_valid_HR.zip\n",
        "!unzip -q DIV2K_train_HR.zip -d data\n",
        "!unzip -q DIV2K_valid_HR.zip -d data\n",
        "!rm DIV2K_train_HR.zip\n",
        "!rm DIV2K_valid_HR.zip"
      ],
      "execution_count": null,
      "outputs": []
    },
    {
      "cell_type": "code",
      "metadata": {
        "id": "26MbD1-K7eyj"
      },
      "source": [
        "# Init Date time\n",
        "from datetime import datetime\n",
        "now = datetime.now()\n",
        "\n",
        "#Set Training Path\n",
        "traininPaht = \"/content/drive/MyDrive/SRGAN/training_results/\" + datetime.strftime(now,'%Y-%m-%d_%H:%M:%S') \n",
        "!mkdir $traininPaht\n",
        "traininPaht = traininPaht + '/'\n",
        "\n",
        "statisticsPaht = \"/content/drive/MyDrive/SRGAN/statistics/\"+datetime.strftime(now,'%Y-%m-%d_%H:%M:%S')\n",
        "!mkdir $statisticsPaht\n",
        "statisticsPaht = statisticsPaht + '/'"
      ],
      "execution_count": null,
      "outputs": []
    },
    {
      "cell_type": "code",
      "metadata": {
        "id": "U2xJyj9Wmczt"
      },
      "source": [
        "!rm data/DIV2K_train_HR/01**.png"
      ],
      "execution_count": null,
      "outputs": []
    },
    {
      "cell_type": "code",
      "metadata": {
        "id": "vSK_wlqSANXb"
      },
      "source": [
        "%cd ..\n",
        "!rm -r ./SRGAN_ORI_Test/"
      ],
      "execution_count": null,
      "outputs": []
    },
    {
      "cell_type": "code",
      "metadata": {
        "id": "KG5W3Ea4AhnH"
      },
      "source": [
        "! python train.py \\\n",
        "  --num_epochs 1 \\\n",
        "  --willy_test 0"
      ],
      "execution_count": null,
      "outputs": []
    }
  ]
}